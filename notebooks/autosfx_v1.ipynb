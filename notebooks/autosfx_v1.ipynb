{
 "cells": [
  {
   "cell_type": "code",
   "execution_count": 1,
   "metadata": {},
   "outputs": [
    {
     "data": {
      "text/html": [
       "<style>.container { width:100% !important; }</style>"
      ],
      "text/plain": [
       "<IPython.core.display.HTML object>"
      ]
     },
     "metadata": {},
     "output_type": "display_data"
    }
   ],
   "source": [
    "from IPython.core.display import display, HTML\n",
    "display(HTML(\"<style>.container { width:100% !important; }</style>\"))"
   ]
  },
  {
   "cell_type": "markdown",
   "metadata": {},
   "source": [
    "## step 1"
   ]
  },
  {
   "cell_type": "code",
   "execution_count": 31,
   "metadata": {},
   "outputs": [
    {
     "name": "stdout",
     "output_type": "stream",
     "text": [
      "'Unknown DetInfo device type:  (source: )'\n",
      "'Unknown DetInfo device type:  (source: )'\n",
      "DsdCsPad\n",
      "/reg/data/ana03/scratch/zhensu/Develop/v1/r0079\n",
      "##### save psanaMask:  /reg/data/ana03/scratch/zhensu/Develop/v1/r0079/psanaMask.npy\n",
      "Saving static mask in Cheetah format:  /reg/data/ana03/scratch/zhensu/Develop/v1/r0079/staticMask.h5\n",
      "##### save cheetah mask:  /reg/data/ana03/scratch/zhensu/Develop/v1/r0079/staticMask.h5\n",
      "geometry: \n",
      " 999-end.data-2017-02-27T17:06:33\n",
      "HISTORY\n",
      "0-end.data\n",
      "1-end.data\n",
      "##### load calibFile:  /reg/d/psdm/cxi/cxic0515/calib/CsPad::CalibV1/CxiDs2.0:Cspad.0/geometry/1-end.data\n",
      "Loading: /reg/d/psdm/cxi/cxic0515/calib/CsPad::CalibV1/CxiDs2.0:Cspad.0/geometry/1-end.data\n",
      "##### convert calibFile to geometry file\n",
      "Couldn't handle detector clen.\n"
     ]
    }
   ],
   "source": [
    "! python ./autosfx/scripts/run-01-expSetup.py --exp cxic0515 --run 79 --outDir ./"
   ]
  },
  {
   "cell_type": "markdown",
   "metadata": {},
   "source": [
    "## step 2"
   ]
  },
  {
   "cell_type": "code",
   "execution_count": 32,
   "metadata": {
    "scrolled": true
   },
   "outputs": [
    {
     "name": "stdout",
     "output_type": "stream",
     "text": [
      "Job <70623> is submitted to queue <psfehq>.\r\n"
     ]
    }
   ],
   "source": [
    "! bsub -q psfehq -n 12 -o ./.%J.out -J powerSum mpirun python ./autosfx/scripts/run-02-powderSum.py --exp cxic0515 --run 79 --noe 1000 --outDir ./"
   ]
  },
  {
   "cell_type": "markdown",
   "metadata": {},
   "source": [
    "## step 3"
   ]
  },
  {
   "cell_type": "code",
   "execution_count": 33,
   "metadata": {
    "scrolled": false
   },
   "outputs": [
    {
     "name": "stdout",
     "output_type": "stream",
     "text": [
      "None\n",
      "('Matrix center: ', 866.5, 866.0)\n",
      "('Guess centre: ', 854, 853)\n",
      "Figure(640x480)\n",
      "Figure(640x480)\n",
      "('Optimum centre along row,centre along column: ', 864, 875)\n"
     ]
    }
   ],
   "source": [
    "! python ./autosfx/scripts/run-03-findCenter.py --img ./r0079/cxic0515_0079_max_assem.npy --mask ./r0079/psanaMask.npy "
   ]
  },
  {
   "cell_type": "markdown",
   "metadata": {},
   "source": [
    "## step 4"
   ]
  },
  {
   "cell_type": "code",
   "execution_count": 56,
   "metadata": {
    "scrolled": false
   },
   "outputs": [
    {
     "name": "stdout",
     "output_type": "stream",
     "text": [
      "'Unknown DetInfo device type:  (source: )'\n",
      "!!!!! Couldn't handle detector clen.\n",
      "'Unknown DetInfo device type:  (source: )'\n",
      "CxiDs2.0:Cspad.0\n",
      "('run list: ', [79])\n",
      "(-0.0072702, 'CXI:DS2:MMS:06.RBV')\n",
      " #####\n",
      "bsub -q psanaq -n 12 -o /reg/data/ana03/scratch/zhensu/Develop/v1/r0079/.%J.log -J cxic0515-r0079 mpirun findPeaks  -e cxic0515 -r 79 -d CxiDs2.0:Cspad.0 --outDir /reg/data/ana03/scratch/zhensu/Develop/v1/r0079 --algorithm 2 --alg_npix_min 2 --alg_npix_max 30 --alg_amax_thr 100 --alg_atot_thr 150 --alg_son_min 7 --alg1_thr_low 0.0 --alg1_thr_high 0.0 --alg1_rank 3 --alg1_radius 3 --alg1_dr 2 --psanaMask_on True --psanaMask_calib True --psanaMask_status True --psanaMask_edges True --psanaMask_central True --psanaMask_unbond True --psanaMask_unbondnrs True --mask /reg/data/ana03/scratch/zhensu/Develop/v1/r0079/staticMask.h5 --noe 300 --clen CXI:DS2:MMS:06.RBV --coffset 0.1512702 --minPeaks 15 --maxPeaks 2048 --minRes -1 --sample sample --instrument CXI --pixelSize 0.00010992 --auto False --detectorDistance 0.144 --access ana \n",
      " ######\n",
      "Job <80209> is submitted to queue <psanaq>.\n",
      "\n"
     ]
    }
   ],
   "source": [
    "! python ./autosfx/scripts/run-04-peakFinder.py --exp cxic0515 --run 79 --noe 300 --outDir ./"
   ]
  },
  {
   "cell_type": "markdown",
   "metadata": {},
   "source": [
    "## step 5"
   ]
  },
  {
   "cell_type": "code",
   "execution_count": 57,
   "metadata": {
    "scrolled": true
   },
   "outputs": [
    {
     "name": "stdout",
     "output_type": "stream",
     "text": [
      "'Unknown DetInfo device type:  (source: )'\n",
      "!!!!! Couldn't handle detector clen.\n",
      "'Unknown DetInfo device type:  (source: )'\n",
      "CxiDs2.0:Cspad.0\n",
      "(-0.0072702, 'CXI:DS2:MMS:06.RBV')\n",
      "##### old geom:  /reg/data/ana03/scratch/autosfx/zhensu/cxic0515/r0079/.temp.geom\n",
      "##### old params: distance=0.144000 / coffset=0.151270 / clen=-0.007270\n",
      "##### new geom:  /reg/data/ana03/scratch/autosfx/zhensu/cxic0515/r0079/.temp.geom-newDistance-0.142-9W11A\n",
      "##### new params: distance=0.142000 / coffset=0.149270 / clen=-0.007270\n",
      "(-0.0072702, 'CXI:DS2:MMS:06.RBV')\n",
      " #####\n",
      "indexCrystals -e cxic0515 -d CxiDs2.0:Cspad.0 --geom /reg/data/ana03/scratch/autosfx/zhensu/cxic0515/r0079/.temp.geom-newDistance-0.142-9W11A --peakMethod cxi --integrationRadius 3,4,5 --indexingMethod mosflm,dirax --minPeaks 15 --maxPeaks 2048 --minRes -1 --tolerance 5,5,5,1.5 --outDir /reg/data/ana03/scratch/zhensu/Develop/v1 --sample crystal --queue psanaq --chunkSize 200 --noe -1 --instrument CXI --pixelSize 0.00010992 --coffset 0.1492702 --clenEpics CXI:DS2:MMS:06.RBV --logger False --keepData True --likelihood 0.0 --tag indexer_0.1420 --pdb /reg/data/ana03/scratch/autosfx/strep.cell --run 79 \n",
      " ######\n",
      "(-0.0072702, 'CXI:DS2:MMS:06.RBV')\n",
      "##### old geom:  /reg/data/ana03/scratch/autosfx/zhensu/cxic0515/r0079/.temp.geom\n",
      "##### old params: distance=0.144000 / coffset=0.151270 / clen=-0.007270\n",
      "##### new geom:  /reg/data/ana03/scratch/autosfx/zhensu/cxic0515/r0079/.temp.geom-newDistance-0.144-VNVVN\n",
      "##### new params: distance=0.144000 / coffset=0.151270 / clen=-0.007270\n",
      "(-0.0072702, 'CXI:DS2:MMS:06.RBV')\n",
      " #####\n",
      "indexCrystals -e cxic0515 -d CxiDs2.0:Cspad.0 --geom /reg/data/ana03/scratch/autosfx/zhensu/cxic0515/r0079/.temp.geom-newDistance-0.144-VNVVN --peakMethod cxi --integrationRadius 3,4,5 --indexingMethod mosflm,dirax --minPeaks 15 --maxPeaks 2048 --minRes -1 --tolerance 5,5,5,1.5 --outDir /reg/data/ana03/scratch/zhensu/Develop/v1 --sample crystal --queue psanaq --chunkSize 200 --noe -1 --instrument CXI --pixelSize 0.00010992 --coffset 0.1512702 --clenEpics CXI:DS2:MMS:06.RBV --logger False --keepData True --likelihood 0.0 --tag indexer_0.1440 --pdb /reg/data/ana03/scratch/autosfx/strep.cell --run 79 \n",
      " ######\n",
      "(-0.0072702, 'CXI:DS2:MMS:06.RBV')\n",
      "##################\n",
      "original condition =  \n",
      "modified condition =   \n",
      "\n",
      "##################\n",
      "satisfied event:  [0, 1, 2, 3, 4, 5, 6, 7, 8, 9, 10, 11, 12, 13, 14, 15, 16, 17, 18, 19, 20, 21, 22, 23, 24, 25, 26, 27, 28, 29, 30, 31, 32, 33, 34, 35, 36, 37, 38, 39, 40, 41, 42, 43, 44, 45, 46, 47, 48, 49, 50, 51, 52, 53, 54, 55, 56, 57, 58, 59, 60, 61, 62, 63, 64, 65, 66, 67, 68, 69, 70, 71, 72, 73, 74, 75, 76, 77, 78, 79, 80, 81, 82, 83, 84, 85, 86, 87, 88, 89, 90, 91, 92, 93, 94, 95, 96, 97, 98, 99, 100, 101, 102, 103, 104, 105, 106, 107, 108, 109, 110, 111, 112, 113, 114, 115, 116, 117, 118, 119, 120, 121, 122, 123, 124, 125, 126, 127, 128, 129, 130, 131, 132, 133, 134, 135, 136, 137, 138, 139, 140, 141, 142, 143, 144, 145, 146, 147, 148, 149, 150, 151, 152, 153, 154, 155, 156, 157, 158, 159, 160, 161, 162, 163, 164, 165, 166, 167, 168, 169, 170, 171, 172, 173, 174, 175, 176, 177, 178, 179, 180, 181, 182, 183, 184, 185, 186, 187, 188, 189, 190, 191, 192, 193, 194, 195, 196, 197, 198, 199] \n",
      "\n",
      "Submitting job:  bsub -q psanaq -o /reg/data/ana03/scratch/zhensu/Develop/v1/r0079/.%J.log -J cxic0515_79_0_indexer_0.1420 -n 1 -x indexamajig -i /reg/data/ana03/scratch/zhensu/Develop/v1/r0079/temp_cxic0515_79_0_indexer_0.1420.lst -j '`nproc`' -g /reg/data/ana03/scratch/autosfx/zhensu/cxic0515/r0079/.temp.geom-newDistance-0.142-9W11A --peaks=cxi --int-radius=3,4,5 --indexing=mosflm,dirax -o /reg/data/ana03/scratch/zhensu/Develop/v1/r0079/temp_cxic0515_79_0_indexer_0.1420.stream --temp-dir=/scratch --tolerance=5,5,5,1.5 --no-revalidate --profile --pdb=/reg/data/ana03/scratch/autosfx/strep.cell\n",
      "##### old geom:  /reg/data/ana03/scratch/autosfx/zhensu/cxic0515/r0079/.temp.geom\n",
      "##### old params: distance=0.144000 / coffset=0.151270 / clen=-0.007270\n",
      "##### new geom:  /reg/data/ana03/scratch/autosfx/zhensu/cxic0515/r0079/.temp.geom-newDistance-0.146-FMHIG\n",
      "##### new params: distance=0.146000 / coffset=0.153270 / clen=-0.007270\n",
      "bsub log filename:  /reg/data/ana03/scratch/zhensu/Develop/v1/r0079/.82594.log\n",
      "satisfied event:  [200, 201, 202, 203, 204, 205, 206, 207, 208, 209, 210, 211, 212, 213, 214, 215, 216, 217, 218, 219, 220, 221, 222, 223, 224, 225, 226, 227, 228, 229, 230, 231, 232, 233, 234, 235, 236, 237, 238, 239, 240, 241, 242, 243, 244, 245, 246, 247, 248, 249, 250, 251, 252, 253] \n",
      "\n",
      "Submitting job:  bsub -q psanaq -o /reg/data/ana03/scratch/zhensu/Develop/v1/r0079/.%J.log -J cxic0515_79_1_indexer_0.1420 -n 1 -x indexamajig -i /reg/data/ana03/scratch/zhensu/Develop/v1/r0079/temp_cxic0515_79_1_indexer_0.1420.lst -j '`nproc`' -g /reg/data/ana03/scratch/autosfx/zhensu/cxic0515/r0079/.temp.geom-newDistance-0.142-9W11A --peaks=cxi --int-radius=3,4,5 --indexing=mosflm,dirax -o /reg/data/ana03/scratch/zhensu/Develop/v1/r0079/temp_cxic0515_79_1_indexer_0.1420.stream --temp-dir=/scratch --tolerance=5,5,5,1.5 --no-revalidate --profile --pdb=/reg/data/ana03/scratch/autosfx/strep.cell\n",
      "bsub log filename:  /reg/data/ana03/scratch/zhensu/Develop/v1/r0079/.82596.log\n",
      "(-0.0072702, 'CXI:DS2:MMS:06.RBV')\n",
      " #####\n",
      "indexCrystals -e cxic0515 -d CxiDs2.0:Cspad.0 --geom /reg/data/ana03/scratch/autosfx/zhensu/cxic0515/r0079/.temp.geom-newDistance-0.146-FMHIG --peakMethod cxi --integrationRadius 3,4,5 --indexingMethod mosflm,dirax --minPeaks 15 --maxPeaks 2048 --minRes -1 --tolerance 5,5,5,1.5 --outDir /reg/data/ana03/scratch/zhensu/Develop/v1 --sample crystal --queue psanaq --chunkSize 200 --noe -1 --instrument CXI --pixelSize 0.00010992 --coffset 0.1532702 --clenEpics CXI:DS2:MMS:06.RBV --logger False --keepData True --likelihood 0.0 --tag indexer_0.1460 --pdb /reg/data/ana03/scratch/autosfx/strep.cell --run 79 \n",
      " ######\n",
      "##################\n",
      "original condition =  \n",
      "modified condition =   \n",
      "\n",
      "##################\n",
      "satisfied event:  [0, 1, 2, 3, 4, 5, 6, 7, 8, 9, 10, 11, 12, 13, 14, 15, 16, 17, 18, 19, 20, 21, 22, 23, 24, 25, 26, 27, 28, 29, 30, 31, 32, 33, 34, 35, 36, 37, 38, 39, 40, 41, 42, 43, 44, 45, 46, 47, 48, 49, 50, 51, 52, 53, 54, 55, 56, 57, 58, 59, 60, 61, 62, 63, 64, 65, 66, 67, 68, 69, 70, 71, 72, 73, 74, 75, 76, 77, 78, 79, 80, 81, 82, 83, 84, 85, 86, 87, 88, 89, 90, 91, 92, 93, 94, 95, 96, 97, 98, 99, 100, 101, 102, 103, 104, 105, 106, 107, 108, 109, 110, 111, 112, 113, 114, 115, 116, 117, 118, 119, 120, 121, 122, 123, 124, 125, 126, 127, 128, 129, 130, 131, 132, 133, 134, 135, 136, 137, 138, 139, 140, 141, 142, 143, 144, 145, 146, 147, 148, 149, 150, 151, 152, 153, 154, 155, 156, 157, 158, 159, 160, 161, 162, 163, 164, 165, 166, 167, 168, 169, 170, 171, 172, 173, 174, 175, 176, 177, 178, 179, 180, 181, 182, 183, 184, 185, 186, 187, 188, 189, 190, 191, 192, 193, 194, 195, 196, 197, 198, 199] \n",
      "\n",
      "Submitting job:  bsub -q psanaq -o /reg/data/ana03/scratch/zhensu/Develop/v1/r0079/.%J.log -J cxic0515_79_0_indexer_0.1440 -n 1 -x indexamajig -i /reg/data/ana03/scratch/zhensu/Develop/v1/r0079/temp_cxic0515_79_0_indexer_0.1440.lst -j '`nproc`' -g /reg/data/ana03/scratch/autosfx/zhensu/cxic0515/r0079/.temp.geom-newDistance-0.144-VNVVN --peaks=cxi --int-radius=3,4,5 --indexing=mosflm,dirax -o /reg/data/ana03/scratch/zhensu/Develop/v1/r0079/temp_cxic0515_79_0_indexer_0.1440.stream --temp-dir=/scratch --tolerance=5,5,5,1.5 --no-revalidate --profile --pdb=/reg/data/ana03/scratch/autosfx/strep.cell\n",
      "bsub log filename:  /reg/data/ana03/scratch/zhensu/Develop/v1/r0079/.82606.log\n",
      "satisfied event:  [200, 201, 202, 203, 204, 205, 206, 207, 208, 209, 210, 211, 212, 213, 214, 215, 216, 217, 218, 219, 220, 221, 222, 223, 224, 225, 226, 227, 228, 229, 230, 231, 232, 233, 234, 235, 236, 237, 238, 239, 240, 241, 242, 243, 244, 245, 246, 247, 248, 249, 250, 251, 252, 253] \n",
      "\n",
      "Submitting job:  bsub -q psanaq -o /reg/data/ana03/scratch/zhensu/Develop/v1/r0079/.%J.log -J cxic0515_79_1_indexer_0.1440 -n 1 -x indexamajig -i /reg/data/ana03/scratch/zhensu/Develop/v1/r0079/temp_cxic0515_79_1_indexer_0.1440.lst -j '`nproc`' -g /reg/data/ana03/scratch/autosfx/zhensu/cxic0515/r0079/.temp.geom-newDistance-0.144-VNVVN --peaks=cxi --int-radius=3,4,5 --indexing=mosflm,dirax -o /reg/data/ana03/scratch/zhensu/Develop/v1/r0079/temp_cxic0515_79_1_indexer_0.1440.stream --temp-dir=/scratch --tolerance=5,5,5,1.5 --no-revalidate --profile --pdb=/reg/data/ana03/scratch/autosfx/strep.cell\n"
     ]
    },
    {
     "name": "stdout",
     "output_type": "stream",
     "text": [
      "bsub log filename:  /reg/data/ana03/scratch/zhensu/Develop/v1/r0079/.82608.log\n",
      "##################\n",
      "original condition =  \n",
      "modified condition =   \n",
      "\n",
      "##################\n",
      "satisfied event:  [0, 1, 2, 3, 4, 5, 6, 7, 8, 9, 10, 11, 12, 13, 14, 15, 16, 17, 18, 19, 20, 21, 22, 23, 24, 25, 26, 27, 28, 29, 30, 31, 32, 33, 34, 35, 36, 37, 38, 39, 40, 41, 42, 43, 44, 45, 46, 47, 48, 49, 50, 51, 52, 53, 54, 55, 56, 57, 58, 59, 60, 61, 62, 63, 64, 65, 66, 67, 68, 69, 70, 71, 72, 73, 74, 75, 76, 77, 78, 79, 80, 81, 82, 83, 84, 85, 86, 87, 88, 89, 90, 91, 92, 93, 94, 95, 96, 97, 98, 99, 100, 101, 102, 103, 104, 105, 106, 107, 108, 109, 110, 111, 112, 113, 114, 115, 116, 117, 118, 119, 120, 121, 122, 123, 124, 125, 126, 127, 128, 129, 130, 131, 132, 133, 134, 135, 136, 137, 138, 139, 140, 141, 142, 143, 144, 145, 146, 147, 148, 149, 150, 151, 152, 153, 154, 155, 156, 157, 158, 159, 160, 161, 162, 163, 164, 165, 166, 167, 168, 169, 170, 171, 172, 173, 174, 175, 176, 177, 178, 179, 180, 181, 182, 183, 184, 185, 186, 187, 188, 189, 190, 191, 192, 193, 194, 195, 196, 197, 198, 199] \n",
      "\n",
      "Submitting job:  bsub -q psanaq -o /reg/data/ana03/scratch/zhensu/Develop/v1/r0079/.%J.log -J cxic0515_79_0_indexer_0.1460 -n 1 -x indexamajig -i /reg/data/ana03/scratch/zhensu/Develop/v1/r0079/temp_cxic0515_79_0_indexer_0.1460.lst -j '`nproc`' -g /reg/data/ana03/scratch/autosfx/zhensu/cxic0515/r0079/.temp.geom-newDistance-0.146-FMHIG --peaks=cxi --int-radius=3,4,5 --indexing=mosflm,dirax -o /reg/data/ana03/scratch/zhensu/Develop/v1/r0079/temp_cxic0515_79_0_indexer_0.1460.stream --temp-dir=/scratch --tolerance=5,5,5,1.5 --no-revalidate --profile --pdb=/reg/data/ana03/scratch/autosfx/strep.cell\n",
      "bsub log filename:  /reg/data/ana03/scratch/zhensu/Develop/v1/r0079/.82617.log\n",
      "satisfied event:  [200, 201, 202, 203, 204, 205, 206, 207, 208, 209, 210, 211, 212, 213, 214, 215, 216, 217, 218, 219, 220, 221, 222, 223, 224, 225, 226, 227, 228, 229, 230, 231, 232, 233, 234, 235, 236, 237, 238, 239, 240, 241, 242, 243, 244, 245, 246, 247, 248, 249, 250, 251, 252, 253] \n",
      "\n",
      "Submitting job:  bsub -q psanaq -o /reg/data/ana03/scratch/zhensu/Develop/v1/r0079/.%J.log -J cxic0515_79_1_indexer_0.1460 -n 1 -x indexamajig -i /reg/data/ana03/scratch/zhensu/Develop/v1/r0079/temp_cxic0515_79_1_indexer_0.1460.lst -j '`nproc`' -g /reg/data/ana03/scratch/autosfx/zhensu/cxic0515/r0079/.temp.geom-newDistance-0.146-FMHIG --peaks=cxi --int-radius=3,4,5 --indexing=mosflm,dirax -o /reg/data/ana03/scratch/zhensu/Develop/v1/r0079/temp_cxic0515_79_1_indexer_0.1460.stream --temp-dir=/scratch --tolerance=5,5,5,1.5 --no-revalidate --profile --pdb=/reg/data/ana03/scratch/autosfx/strep.cell\n",
      "bsub log filename:  /reg/data/ana03/scratch/zhensu/Develop/v1/r0079/.82619.log\n",
      "successfully done indexing:  79 /reg/data/ana03/scratch/zhensu/Develop/v1/r0079/.82596.log\n",
      "successfully done indexing:  79 /reg/data/ana03/scratch/zhensu/Develop/v1/r0079/.82619.log\n",
      "successfully done indexing:  79 /reg/data/ana03/scratch/zhensu/Develop/v1/r0079/.82608.log\n",
      "successfully done indexing:  79 /reg/data/ana03/scratch/zhensu/Develop/v1/r0079/.82594.log\n",
      "Done indexing\n",
      "Couldn't modify hdf5 file:  /reg/data/ana03/scratch/zhensu/Develop/v1/r0079/cxic0515_0079.cxi\n",
      "Done indexing run:  79\n",
      "successfully done indexing:  79 /reg/data/ana03/scratch/zhensu/Develop/v1/r0079/.82606.log\n",
      "Done indexing\n",
      "Couldn't modify hdf5 file:  /reg/data/ana03/scratch/zhensu/Develop/v1/r0079/cxic0515_0079.cxi\n",
      "Done indexing run:  79\n",
      "successfully done indexing:  79 /reg/data/ana03/scratch/zhensu/Develop/v1/r0079/.82617.log\n",
      "Done indexing\n",
      "Couldn't modify hdf5 file:  /reg/data/ana03/scratch/zhensu/Develop/v1/r0079/cxic0515_0079.cxi\n",
      "Done indexing run:  79\n"
     ]
    }
   ],
   "source": [
    "! python ./autosfx/scripts/run-05-indexer.py --exp cxic0515 --run 79 --pdb /reg/data/ana03/scratch/autosfx/strep.cell --distance \" -2,0,2 \" --outDir ./"
   ]
  },
  {
   "cell_type": "markdown",
   "metadata": {},
   "source": [
    "## step 6"
   ]
  },
  {
   "cell_type": "code",
   "execution_count": 59,
   "metadata": {},
   "outputs": [
    {
     "name": "stdout",
     "output_type": "stream",
     "text": [
      "./r0079/cxic0515_0079_indexer_0.1420.stream\n",
      "./r0079/cxic0515_0079_indexer_0.1440.stream\n",
      "./r0079/cxic0515_0079_indexer_0.1460.stream\n",
      "\n",
      "\n",
      "Found stream ['./r0079/cxic0515_0079_indexer_0.1420.stream', './r0079/cxic0515_0079_indexer_0.1440.stream', './r0079/cxic0515_0079_indexer_0.1460.stream', '']\n",
      "##### streamfile:  ./r0079/cxic0515_0079_indexer_0.1420.stream\n",
      "##### score:  [-999.0, -999.0, -999.0, -999.0, -999.0, -999.0] \n",
      "\n",
      "\n",
      "##### streamfile:  ./r0079/cxic0515_0079_indexer_0.1440.stream\n",
      "##### score:  [-999.0, -999.0, -999.0, -999.0, -999.0, -999.0] \n",
      "\n",
      "\n",
      "##### streamfile:  ./r0079/cxic0515_0079_indexer_0.1460.stream\n",
      "##### score:  [-999.0, -999.0, -999.0, -999.0, -999.0, -999.0] \n",
      "\n",
      "\n",
      "##### best stream file:  ./r0079/cxic0515_0079_indexer_0.1420.stream\n"
     ]
    }
   ],
   "source": [
    "! python ./autosfx/scripts/run-06-optimizeDistance.py --stream \"./r0079/cxic0515_0079_indexer_*.stream\""
   ]
  },
  {
   "cell_type": "code",
   "execution_count": null,
   "metadata": {},
   "outputs": [],
   "source": []
  }
 ],
 "metadata": {
  "kernelspec": {
   "display_name": "Python 2",
   "language": "python",
   "name": "python2"
  },
  "language_info": {
   "codemirror_mode": {
    "name": "ipython",
    "version": 2
   },
   "file_extension": ".py",
   "mimetype": "text/x-python",
   "name": "python",
   "nbconvert_exporter": "python",
   "pygments_lexer": "ipython2",
   "version": "2.7.15"
  }
 },
 "nbformat": 4,
 "nbformat_minor": 2
}
